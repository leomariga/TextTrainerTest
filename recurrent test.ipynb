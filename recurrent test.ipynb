{
 "cells": [
  {
   "cell_type": "code",
   "execution_count": 4,
   "metadata": {},
   "outputs": [],
   "source": [
    "import keras\n",
    "from keras.preprocessing.text import Tokenizer\n",
    "\n",
    "file_content = open(r\"test.txt\").read()\n",
    "file_content = file_content.replace(\".\", \" .\")\n",
    "file_content = file_content.replace(\"\\n\", \" \\n \")\n",
    "t  = Tokenizer(filters='!\"#$%&()*+,-/:;<=>?@[\\\\]^_`{|}~\\t')\n",
    "t.fit_on_texts([file_content])\n",
    "sequences = t.texts_to_sequences([file_content])"
   ]
  },
  {
   "cell_type": "code",
   "execution_count": 5,
   "metadata": {},
   "outputs": [
    {
     "name": "stdout",
     "output_type": "stream",
     "text": [
      "word_index :  {'\\n': 1, 'voa': 2, 'calyptra': 3, 'derruba': 4, 'zipline': 5, 'camis': 6, 'henrique': 7, 'leonardo': 8}\n"
     ]
    }
   ],
   "source": [
    "print(\"word_index : \",t.word_index)"
   ]
  },
  {
   "cell_type": "code",
   "execution_count": 6,
   "metadata": {},
   "outputs": [
    {
     "name": "stdout",
     "output_type": "stream",
     "text": [
      "sequences :  [[6, 2, 3, 1, 7, 2, 3, 1, 8, 2, 3, 1, 6, 4, 3, 1, 7, 4, 3, 1, 8, 4, 3, 1, 6, 2, 5, 1, 7, 2, 5, 1, 8, 2, 5, 1, 6, 4, 5, 1, 7, 4, 5, 1, 8, 4, 5]] \n",
      "\n"
     ]
    }
   ],
   "source": [
    "print('sequences : ',sequences,'\\n')"
   ]
  },
  {
   "cell_type": "code",
   "execution_count": null,
   "metadata": {},
   "outputs": [],
   "source": []
  }
 ],
 "metadata": {
  "kernelspec": {
   "display_name": "Python 3",
   "language": "python",
   "name": "python3"
  },
  "language_info": {
   "codemirror_mode": {
    "name": "ipython",
    "version": 3
   },
   "file_extension": ".py",
   "mimetype": "text/x-python",
   "name": "python",
   "nbconvert_exporter": "python",
   "pygments_lexer": "ipython3",
   "version": "3.7.3"
  }
 },
 "nbformat": 4,
 "nbformat_minor": 2
}
